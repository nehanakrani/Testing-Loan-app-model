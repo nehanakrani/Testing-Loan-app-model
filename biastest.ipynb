{
 "cells": [
  {
   "cell_type": "markdown",
   "id": "ea935faa",
   "metadata": {},
   "source": [
    "# **Load all necessary packages**"
   ]
  },
  {
   "cell_type": "code",
   "execution_count": 1,
   "id": "eb89c2d8",
   "metadata": {},
   "outputs": [
    {
     "name": "stdout",
     "output_type": "stream",
     "text": [
      "Requirement already satisfied: aif360 in /home/neha/.local/lib/python3.8/site-packages (0.4.0)\n",
      "Requirement already satisfied: numpy>=1.16 in /home/neha/.local/lib/python3.8/site-packages (from aif360) (1.21.0)\n",
      "Requirement already satisfied: tempeh in /home/neha/.local/lib/python3.8/site-packages (from aif360) (0.1.12)\n",
      "Requirement already satisfied: matplotlib in /home/neha/.local/lib/python3.8/site-packages (from aif360) (3.1.2)\n",
      "Requirement already satisfied: scikit-learn>=0.22.1 in /home/neha/.local/lib/python3.8/site-packages (from aif360) (1.0.2)\n",
      "Requirement already satisfied: pandas>=0.24.0 in /home/neha/.local/lib/python3.8/site-packages (from aif360) (1.4.1)\n",
      "Requirement already satisfied: scipy<1.6.0,>=1.2.0 in /home/neha/.local/lib/python3.8/site-packages (from aif360) (1.5.4)\n",
      "Requirement already satisfied: memory-profiler in /home/neha/.local/lib/python3.8/site-packages (from tempeh->aif360) (0.60.0)\n",
      "Requirement already satisfied: pytest in /home/neha/.local/lib/python3.8/site-packages (from tempeh->aif360) (7.1.1)\n",
      "Requirement already satisfied: shap in /home/neha/.local/lib/python3.8/site-packages (from tempeh->aif360) (0.40.0)\n",
      "Requirement already satisfied: requests in /home/neha/.local/lib/python3.8/site-packages (from tempeh->aif360) (2.27.1)\n",
      "Requirement already satisfied: kiwisolver>=1.0.1 in /home/neha/.local/lib/python3.8/site-packages (from matplotlib->aif360) (1.4.0)\n",
      "Requirement already satisfied: pyparsing!=2.0.4,!=2.1.2,!=2.1.6,>=2.0.1 in /home/neha/.local/lib/python3.8/site-packages (from matplotlib->aif360) (3.0.7)\n",
      "Requirement already satisfied: python-dateutil>=2.1 in /home/neha/.local/lib/python3.8/site-packages (from matplotlib->aif360) (2.8.2)\n",
      "Requirement already satisfied: cycler>=0.10 in /home/neha/.local/lib/python3.8/site-packages (from matplotlib->aif360) (0.11.0)\n",
      "Requirement already satisfied: threadpoolctl>=2.0.0 in /home/neha/.local/lib/python3.8/site-packages (from scikit-learn>=0.22.1->aif360) (3.1.0)\n",
      "Requirement already satisfied: joblib>=0.11 in /home/neha/.local/lib/python3.8/site-packages (from scikit-learn>=0.22.1->aif360) (1.1.0)\n",
      "Requirement already satisfied: pytz>=2020.1 in /home/neha/.local/lib/python3.8/site-packages (from pandas>=0.24.0->aif360) (2022.1)\n",
      "Requirement already satisfied: psutil in /home/neha/.local/lib/python3.8/site-packages (from memory-profiler->tempeh->aif360) (5.9.0)\n",
      "Requirement already satisfied: packaging in /home/neha/.local/lib/python3.8/site-packages (from pytest->tempeh->aif360) (21.3)\n",
      "Requirement already satisfied: attrs>=19.2.0 in /home/neha/.local/lib/python3.8/site-packages (from pytest->tempeh->aif360) (21.4.0)\n",
      "Requirement already satisfied: tomli>=1.0.0 in /home/neha/.local/lib/python3.8/site-packages (from pytest->tempeh->aif360) (2.0.1)\n",
      "Requirement already satisfied: iniconfig in /home/neha/.local/lib/python3.8/site-packages (from pytest->tempeh->aif360) (1.1.1)\n",
      "Requirement already satisfied: pluggy<2.0,>=0.12 in /home/neha/.local/lib/python3.8/site-packages (from pytest->tempeh->aif360) (1.0.0)\n",
      "Requirement already satisfied: py>=1.8.2 in /home/neha/.local/lib/python3.8/site-packages (from pytest->tempeh->aif360) (1.11.0)\n",
      "Requirement already satisfied: tqdm>4.25.0 in /home/neha/.local/lib/python3.8/site-packages (from shap->tempeh->aif360) (4.63.1)\n",
      "Requirement already satisfied: numba in /home/neha/.local/lib/python3.8/site-packages (from shap->tempeh->aif360) (0.55.1)\n",
      "Requirement already satisfied: cloudpickle in /home/neha/.local/lib/python3.8/site-packages (from shap->tempeh->aif360) (2.0.0)\n",
      "Requirement already satisfied: slicer==0.0.7 in /home/neha/.local/lib/python3.8/site-packages (from shap->tempeh->aif360) (0.0.7)\n",
      "Requirement already satisfied: idna<4,>=2.5; python_version >= \"3\" in /home/neha/.local/lib/python3.8/site-packages (from requests->tempeh->aif360) (3.3)\n",
      "Requirement already satisfied: certifi>=2017.4.17 in /home/neha/.local/lib/python3.8/site-packages (from requests->tempeh->aif360) (2021.10.8)\n",
      "Requirement already satisfied: urllib3<1.27,>=1.21.1 in /home/neha/.local/lib/python3.8/site-packages (from requests->tempeh->aif360) (1.26.9)\n",
      "Requirement already satisfied: charset-normalizer~=2.0.0; python_version >= \"3\" in /home/neha/.local/lib/python3.8/site-packages (from requests->tempeh->aif360) (2.0.12)\n",
      "Requirement already satisfied: six>=1.5 in /home/neha/.local/lib/python3.8/site-packages (from python-dateutil>=2.1->matplotlib->aif360) (1.16.0)\n",
      "Requirement already satisfied: setuptools in /home/neha/.local/lib/python3.8/site-packages (from numba->shap->tempeh->aif360) (61.0.0)\n",
      "Requirement already satisfied: llvmlite<0.39,>=0.38.0rc1 in /home/neha/.local/lib/python3.8/site-packages (from numba->shap->tempeh->aif360) (0.38.0)\n",
      "Note: you may need to restart the kernel to use updated packages.\n",
      "fatal: destination path 'AIF360' already exists and is not an empty directory.\n",
      "mv: cannot stat '/content/german.data': No such file or directory\n",
      "mv: cannot stat '/content/german.doc': No such file or directory\n",
      "mv: cannot stat 'AIF360/examples/*': No such file or directory\n"
     ]
    },
    {
     "name": "stderr",
     "output_type": "stream",
     "text": [
      "0.1.36ubuntu1 is an invalid version and will not be supported in a future release\n",
      "0.23ubuntu1 is an invalid version and will not be supported in a future release\n",
      "2022-05-06 00:58:55.440546: W tensorflow/stream_executor/platform/default/dso_loader.cc:64] Could not load dynamic library 'libcudart.so.11.0'; dlerror: libcudart.so.11.0: cannot open shared object file: No such file or directory\n",
      "2022-05-06 00:58:55.440605: I tensorflow/stream_executor/cuda/cudart_stub.cc:29] Ignore above cudart dlerror if you do not have a GPU set up on your machine.\n"
     ]
    }
   ],
   "source": [
    "%pip install aif360\n",
    "##Download the files from these links and move these files to the path mentioned below\n",
    "##https://archive.ics.uci.edu/ml/machine-learning-databases/statlog/german/german.data\n",
    "##https://archive.ics.uci.edu/ml/machine-learning-databases/statlog/german/german.doc\n",
    "!git clone https://github.com/Trusted-AI/AIF360\n",
    "! mv /content/german.data /usr/local/lib/python3.6/dist-packages/aif360/datasets/../data/raw/german/german.data\n",
    "! mv /content/german.doc  /usr/local/lib/python3.6/dist-packages/aif360/datasets/../data/raw/german/german.doc\n",
    "! mv AIF360/examples/* .\n",
    "\n",
    "%matplotlib inline\n",
    "import sys\n",
    "import numpy as np\n",
    "from tqdm import tqdm\n",
    "import pickle\n",
    "from aif360.datasets import BinaryLabelDataset\n",
    "from aif360.datasets import AdultDataset, GermanDataset, CompasDataset\n",
    "from aif360.metrics import BinaryLabelDatasetMetric\n",
    "from aif360.metrics import ClassificationMetric\n",
    "from aif360.algorithms.preprocessing.reweighing import Reweighing\n",
    "from aif360.algorithms.preprocessing.optim_preproc_helpers.data_preproc_functions\\\n",
    "import load_preproc_data_adult, load_preproc_data_german, load_preproc_data_compas\n",
    "from sklearn.linear_model import LogisticRegression\n",
    "from sklearn.preprocessing import StandardScaler\n",
    "from sklearn.metrics import accuracy_score\n",
    "from IPython.display import Markdown, display\n",
    "import matplotlib.pyplot as plt\n",
    "from common_utils import compute_metrics\n",
    "from sklearn.metrics import classification_report, confusion_matrix,accuracy_score\n",
    "\n",
    "all_metrics =  [\"Statistical parity difference\",\n",
    "                   \"Average odds difference\",\n",
    "                   \"Equal opportunity difference\"]"
   ]
  },
  {
   "cell_type": "code",
   "execution_count": 2,
   "id": "5e8128a6",
   "metadata": {},
   "outputs": [
    {
     "data": {
      "text/markdown": [
       "#### Training Dataset shape"
      ],
      "text/plain": [
       "<IPython.core.display.Markdown object>"
      ]
     },
     "metadata": {},
     "output_type": "display_data"
    },
    {
     "name": "stdout",
     "output_type": "stream",
     "text": [
      "(700, 57)\n"
     ]
    },
    {
     "data": {
      "text/markdown": [
       "#### Favorable and unfavorable labels"
      ],
      "text/plain": [
       "<IPython.core.display.Markdown object>"
      ]
     },
     "metadata": {},
     "output_type": "display_data"
    },
    {
     "name": "stdout",
     "output_type": "stream",
     "text": [
      "1.0 2.0\n"
     ]
    },
    {
     "data": {
      "text/markdown": [
       "#### Protected attribute names"
      ],
      "text/plain": [
       "<IPython.core.display.Markdown object>"
      ]
     },
     "metadata": {},
     "output_type": "display_data"
    },
    {
     "name": "stdout",
     "output_type": "stream",
     "text": [
      "['age']\n"
     ]
    },
    {
     "data": {
      "text/markdown": [
       "#### Privileged and unprivileged protected attribute values"
      ],
      "text/plain": [
       "<IPython.core.display.Markdown object>"
      ]
     },
     "metadata": {},
     "output_type": "display_data"
    },
    {
     "name": "stdout",
     "output_type": "stream",
     "text": [
      "[array([1.])] [array([0.])]\n"
     ]
    },
    {
     "data": {
      "text/markdown": [
       "#### Dataset feature names"
      ],
      "text/plain": [
       "<IPython.core.display.Markdown object>"
      ]
     },
     "metadata": {},
     "output_type": "display_data"
    },
    {
     "name": "stdout",
     "output_type": "stream",
     "text": [
      "['month', 'credit_amount', 'investment_as_income_percentage', 'residence_since', 'age', 'number_of_credits', 'people_liable_for', 'status=A11', 'status=A12', 'status=A13', 'status=A14', 'credit_history=A30', 'credit_history=A31', 'credit_history=A32', 'credit_history=A33', 'credit_history=A34', 'purpose=A40', 'purpose=A41', 'purpose=A410', 'purpose=A42', 'purpose=A43', 'purpose=A44', 'purpose=A45', 'purpose=A46', 'purpose=A48', 'purpose=A49', 'savings=A61', 'savings=A62', 'savings=A63', 'savings=A64', 'savings=A65', 'employment=A71', 'employment=A72', 'employment=A73', 'employment=A74', 'employment=A75', 'other_debtors=A101', 'other_debtors=A102', 'other_debtors=A103', 'property=A121', 'property=A122', 'property=A123', 'property=A124', 'installment_plans=A141', 'installment_plans=A142', 'installment_plans=A143', 'housing=A151', 'housing=A152', 'housing=A153', 'skill_level=A171', 'skill_level=A172', 'skill_level=A173', 'skill_level=A174', 'telephone=A191', 'telephone=A192', 'foreign_worker=A201', 'foreign_worker=A202']\n",
      "Shape:  (1000, 58)\n"
     ]
    },
    {
     "data": {
      "text/plain": [
       "array([[6.000e+00, 1.169e+03, 4.000e+00, 4.000e+00, 1.000e+00, 2.000e+00,\n",
       "        1.000e+00, 1.000e+00, 0.000e+00, 0.000e+00, 0.000e+00, 0.000e+00,\n",
       "        0.000e+00, 0.000e+00, 0.000e+00, 1.000e+00, 0.000e+00, 0.000e+00,\n",
       "        0.000e+00, 0.000e+00, 1.000e+00, 0.000e+00, 0.000e+00, 0.000e+00,\n",
       "        0.000e+00, 0.000e+00, 0.000e+00, 0.000e+00, 0.000e+00, 0.000e+00,\n",
       "        1.000e+00, 0.000e+00, 0.000e+00, 0.000e+00, 0.000e+00, 1.000e+00,\n",
       "        1.000e+00, 0.000e+00, 0.000e+00, 1.000e+00, 0.000e+00, 0.000e+00,\n",
       "        0.000e+00, 0.000e+00, 0.000e+00, 1.000e+00, 0.000e+00, 1.000e+00,\n",
       "        0.000e+00, 0.000e+00, 0.000e+00, 1.000e+00, 0.000e+00, 0.000e+00,\n",
       "        1.000e+00, 1.000e+00, 0.000e+00, 1.000e+00],\n",
       "       [4.800e+01, 5.951e+03, 2.000e+00, 2.000e+00, 0.000e+00, 1.000e+00,\n",
       "        1.000e+00, 0.000e+00, 1.000e+00, 0.000e+00, 0.000e+00, 0.000e+00,\n",
       "        0.000e+00, 1.000e+00, 0.000e+00, 0.000e+00, 0.000e+00, 0.000e+00,\n",
       "        0.000e+00, 0.000e+00, 1.000e+00, 0.000e+00, 0.000e+00, 0.000e+00,\n",
       "        0.000e+00, 0.000e+00, 1.000e+00, 0.000e+00, 0.000e+00, 0.000e+00,\n",
       "        0.000e+00, 0.000e+00, 0.000e+00, 1.000e+00, 0.000e+00, 0.000e+00,\n",
       "        1.000e+00, 0.000e+00, 0.000e+00, 1.000e+00, 0.000e+00, 0.000e+00,\n",
       "        0.000e+00, 0.000e+00, 0.000e+00, 1.000e+00, 0.000e+00, 1.000e+00,\n",
       "        0.000e+00, 0.000e+00, 0.000e+00, 1.000e+00, 0.000e+00, 1.000e+00,\n",
       "        0.000e+00, 1.000e+00, 0.000e+00, 2.000e+00],\n",
       "       [1.200e+01, 2.096e+03, 2.000e+00, 3.000e+00, 1.000e+00, 1.000e+00,\n",
       "        2.000e+00, 0.000e+00, 0.000e+00, 0.000e+00, 1.000e+00, 0.000e+00,\n",
       "        0.000e+00, 0.000e+00, 0.000e+00, 1.000e+00, 0.000e+00, 0.000e+00,\n",
       "        0.000e+00, 0.000e+00, 0.000e+00, 0.000e+00, 0.000e+00, 1.000e+00,\n",
       "        0.000e+00, 0.000e+00, 1.000e+00, 0.000e+00, 0.000e+00, 0.000e+00,\n",
       "        0.000e+00, 0.000e+00, 0.000e+00, 0.000e+00, 1.000e+00, 0.000e+00,\n",
       "        1.000e+00, 0.000e+00, 0.000e+00, 1.000e+00, 0.000e+00, 0.000e+00,\n",
       "        0.000e+00, 0.000e+00, 0.000e+00, 1.000e+00, 0.000e+00, 1.000e+00,\n",
       "        0.000e+00, 0.000e+00, 1.000e+00, 0.000e+00, 0.000e+00, 1.000e+00,\n",
       "        0.000e+00, 1.000e+00, 0.000e+00, 1.000e+00],\n",
       "       [4.200e+01, 7.882e+03, 2.000e+00, 4.000e+00, 1.000e+00, 1.000e+00,\n",
       "        2.000e+00, 1.000e+00, 0.000e+00, 0.000e+00, 0.000e+00, 0.000e+00,\n",
       "        0.000e+00, 1.000e+00, 0.000e+00, 0.000e+00, 0.000e+00, 0.000e+00,\n",
       "        0.000e+00, 1.000e+00, 0.000e+00, 0.000e+00, 0.000e+00, 0.000e+00,\n",
       "        0.000e+00, 0.000e+00, 1.000e+00, 0.000e+00, 0.000e+00, 0.000e+00,\n",
       "        0.000e+00, 0.000e+00, 0.000e+00, 0.000e+00, 1.000e+00, 0.000e+00,\n",
       "        0.000e+00, 0.000e+00, 1.000e+00, 0.000e+00, 1.000e+00, 0.000e+00,\n",
       "        0.000e+00, 0.000e+00, 0.000e+00, 1.000e+00, 0.000e+00, 0.000e+00,\n",
       "        1.000e+00, 0.000e+00, 0.000e+00, 1.000e+00, 0.000e+00, 1.000e+00,\n",
       "        0.000e+00, 1.000e+00, 0.000e+00, 1.000e+00],\n",
       "       [2.400e+01, 4.870e+03, 3.000e+00, 4.000e+00, 1.000e+00, 2.000e+00,\n",
       "        2.000e+00, 1.000e+00, 0.000e+00, 0.000e+00, 0.000e+00, 0.000e+00,\n",
       "        0.000e+00, 0.000e+00, 1.000e+00, 0.000e+00, 1.000e+00, 0.000e+00,\n",
       "        0.000e+00, 0.000e+00, 0.000e+00, 0.000e+00, 0.000e+00, 0.000e+00,\n",
       "        0.000e+00, 0.000e+00, 1.000e+00, 0.000e+00, 0.000e+00, 0.000e+00,\n",
       "        0.000e+00, 0.000e+00, 0.000e+00, 1.000e+00, 0.000e+00, 0.000e+00,\n",
       "        1.000e+00, 0.000e+00, 0.000e+00, 0.000e+00, 0.000e+00, 0.000e+00,\n",
       "        1.000e+00, 0.000e+00, 0.000e+00, 1.000e+00, 0.000e+00, 0.000e+00,\n",
       "        1.000e+00, 0.000e+00, 0.000e+00, 1.000e+00, 0.000e+00, 1.000e+00,\n",
       "        0.000e+00, 1.000e+00, 0.000e+00, 2.000e+00],\n",
       "       [3.600e+01, 9.055e+03, 2.000e+00, 4.000e+00, 1.000e+00, 1.000e+00,\n",
       "        2.000e+00, 0.000e+00, 0.000e+00, 0.000e+00, 1.000e+00, 0.000e+00,\n",
       "        0.000e+00, 1.000e+00, 0.000e+00, 0.000e+00, 0.000e+00, 0.000e+00,\n",
       "        0.000e+00, 0.000e+00, 0.000e+00, 0.000e+00, 0.000e+00, 1.000e+00,\n",
       "        0.000e+00, 0.000e+00, 0.000e+00, 0.000e+00, 0.000e+00, 0.000e+00,\n",
       "        1.000e+00, 0.000e+00, 0.000e+00, 1.000e+00, 0.000e+00, 0.000e+00,\n",
       "        1.000e+00, 0.000e+00, 0.000e+00, 0.000e+00, 0.000e+00, 0.000e+00,\n",
       "        1.000e+00, 0.000e+00, 0.000e+00, 1.000e+00, 0.000e+00, 0.000e+00,\n",
       "        1.000e+00, 0.000e+00, 1.000e+00, 0.000e+00, 0.000e+00, 0.000e+00,\n",
       "        1.000e+00, 1.000e+00, 0.000e+00, 1.000e+00],\n",
       "       [2.400e+01, 2.835e+03, 3.000e+00, 4.000e+00, 1.000e+00, 1.000e+00,\n",
       "        1.000e+00, 0.000e+00, 0.000e+00, 0.000e+00, 1.000e+00, 0.000e+00,\n",
       "        0.000e+00, 1.000e+00, 0.000e+00, 0.000e+00, 0.000e+00, 0.000e+00,\n",
       "        0.000e+00, 1.000e+00, 0.000e+00, 0.000e+00, 0.000e+00, 0.000e+00,\n",
       "        0.000e+00, 0.000e+00, 0.000e+00, 0.000e+00, 1.000e+00, 0.000e+00,\n",
       "        0.000e+00, 0.000e+00, 0.000e+00, 0.000e+00, 0.000e+00, 1.000e+00,\n",
       "        1.000e+00, 0.000e+00, 0.000e+00, 0.000e+00, 1.000e+00, 0.000e+00,\n",
       "        0.000e+00, 0.000e+00, 0.000e+00, 1.000e+00, 0.000e+00, 1.000e+00,\n",
       "        0.000e+00, 0.000e+00, 0.000e+00, 1.000e+00, 0.000e+00, 1.000e+00,\n",
       "        0.000e+00, 1.000e+00, 0.000e+00, 1.000e+00],\n",
       "       [3.600e+01, 6.948e+03, 2.000e+00, 2.000e+00, 1.000e+00, 1.000e+00,\n",
       "        1.000e+00, 0.000e+00, 1.000e+00, 0.000e+00, 0.000e+00, 0.000e+00,\n",
       "        0.000e+00, 1.000e+00, 0.000e+00, 0.000e+00, 0.000e+00, 1.000e+00,\n",
       "        0.000e+00, 0.000e+00, 0.000e+00, 0.000e+00, 0.000e+00, 0.000e+00,\n",
       "        0.000e+00, 0.000e+00, 1.000e+00, 0.000e+00, 0.000e+00, 0.000e+00,\n",
       "        0.000e+00, 0.000e+00, 0.000e+00, 1.000e+00, 0.000e+00, 0.000e+00,\n",
       "        1.000e+00, 0.000e+00, 0.000e+00, 0.000e+00, 0.000e+00, 1.000e+00,\n",
       "        0.000e+00, 0.000e+00, 0.000e+00, 1.000e+00, 1.000e+00, 0.000e+00,\n",
       "        0.000e+00, 0.000e+00, 0.000e+00, 0.000e+00, 1.000e+00, 0.000e+00,\n",
       "        1.000e+00, 1.000e+00, 0.000e+00, 1.000e+00],\n",
       "       [1.200e+01, 3.059e+03, 2.000e+00, 4.000e+00, 1.000e+00, 1.000e+00,\n",
       "        1.000e+00, 0.000e+00, 0.000e+00, 0.000e+00, 1.000e+00, 0.000e+00,\n",
       "        0.000e+00, 1.000e+00, 0.000e+00, 0.000e+00, 0.000e+00, 0.000e+00,\n",
       "        0.000e+00, 0.000e+00, 1.000e+00, 0.000e+00, 0.000e+00, 0.000e+00,\n",
       "        0.000e+00, 0.000e+00, 0.000e+00, 0.000e+00, 0.000e+00, 1.000e+00,\n",
       "        0.000e+00, 0.000e+00, 0.000e+00, 0.000e+00, 1.000e+00, 0.000e+00,\n",
       "        1.000e+00, 0.000e+00, 0.000e+00, 1.000e+00, 0.000e+00, 0.000e+00,\n",
       "        0.000e+00, 0.000e+00, 0.000e+00, 1.000e+00, 0.000e+00, 1.000e+00,\n",
       "        0.000e+00, 0.000e+00, 1.000e+00, 0.000e+00, 0.000e+00, 1.000e+00,\n",
       "        0.000e+00, 1.000e+00, 0.000e+00, 1.000e+00],\n",
       "       [3.000e+01, 5.234e+03, 4.000e+00, 2.000e+00, 1.000e+00, 2.000e+00,\n",
       "        1.000e+00, 0.000e+00, 1.000e+00, 0.000e+00, 0.000e+00, 0.000e+00,\n",
       "        0.000e+00, 0.000e+00, 0.000e+00, 1.000e+00, 1.000e+00, 0.000e+00,\n",
       "        0.000e+00, 0.000e+00, 0.000e+00, 0.000e+00, 0.000e+00, 0.000e+00,\n",
       "        0.000e+00, 0.000e+00, 1.000e+00, 0.000e+00, 0.000e+00, 0.000e+00,\n",
       "        0.000e+00, 1.000e+00, 0.000e+00, 0.000e+00, 0.000e+00, 0.000e+00,\n",
       "        1.000e+00, 0.000e+00, 0.000e+00, 0.000e+00, 0.000e+00, 1.000e+00,\n",
       "        0.000e+00, 0.000e+00, 0.000e+00, 1.000e+00, 0.000e+00, 1.000e+00,\n",
       "        0.000e+00, 0.000e+00, 0.000e+00, 0.000e+00, 1.000e+00, 1.000e+00,\n",
       "        0.000e+00, 1.000e+00, 0.000e+00, 2.000e+00]])"
      ]
     },
     "execution_count": 2,
     "metadata": {},
     "output_type": "execute_result"
    }
   ],
   "source": [
    "# this dataset also contains protected attribute for \"sex\" which we do not\n",
    "# consider in this evaluation\n",
    "dataset_orig = GermanDataset(\n",
    "    protected_attribute_names=['age'],\n",
    "    privileged_classes=[lambda x: x >= 25],# age >=25 is considered privileged\n",
    "    features_to_drop=['personal_status', 'sex'] # ignore sex-related attributes\n",
    ")\n",
    "#dividing the dataset into train and test\n",
    "dataset_orig_train, dataset_orig_test = dataset_orig.split([0.7], shuffle=True)\n",
    "privileged_groups = [{'age': 1}]\n",
    "unprivileged_groups = [{'age': 0}]\n",
    "# Get the dataset and split into train and test\n",
    "dataset_orig_train, dataset_orig_vt = dataset_orig.split([0.7], shuffle=True)\n",
    "dataset_orig_valid, dataset_orig_test = dataset_orig_vt.split([0.5], shuffle=True)\n",
    "# print out some labels, names, etc.\n",
    "display(Markdown(\"#### Training Dataset shape\"))\n",
    "print(dataset_orig_train.features.shape)\n",
    "display(Markdown(\"#### Favorable and unfavorable labels\"))\n",
    "print(dataset_orig_train.favorable_label, dataset_orig_train.unfavorable_label)\n",
    "display(Markdown(\"#### Protected attribute names\"))\n",
    "print(dataset_orig_train.protected_attribute_names)\n",
    "display(Markdown(\"#### Privileged and unprivileged protected attribute values\"))\n",
    "print(dataset_orig_train.privileged_protected_attributes,\n",
    "      dataset_orig_train.unprivileged_protected_attributes)\n",
    "display(Markdown(\"#### Dataset feature names\"))\n",
    "print(dataset_orig_train.feature_names)\n",
    "\n",
    "df, dict_df = dataset_orig.convert_to_dataframe()\n",
    "print(\"Shape: \", df.shape)\n",
    "df.head(10).values"
   ]
  },
  {
   "cell_type": "markdown",
   "id": "2ac2cf2c",
   "metadata": {},
   "source": [
    "# **Applying Logistic Regression on Orignal Dataset**"
   ]
  },
  {
   "cell_type": "code",
   "execution_count": 3,
   "id": "eb7ea8e6",
   "metadata": {},
   "outputs": [
    {
     "data": {
      "text/plain": [
       "array([1., 2., 1., 1., 2., 2., 2., 1., 2., 1., 2., 1., 2., 2., 1., 2., 2.,\n",
       "       1., 2., 1., 2., 1., 1., 2., 2., 2., 2., 1., 1., 1., 1., 1., 1., 2.,\n",
       "       1., 1., 1., 2., 1., 2., 1., 1., 1., 1., 1., 2., 2., 1., 2., 1., 2.,\n",
       "       1., 2., 1., 1., 2., 2., 1., 2., 2., 2., 2., 1., 1., 2., 1., 2., 1.,\n",
       "       1., 2., 2., 2., 1., 2., 1., 1., 1., 1., 2., 2., 2., 2., 1., 1., 2.,\n",
       "       2., 2., 1., 1., 1., 1., 2., 2., 2., 1., 2., 1., 1., 1., 1., 1., 2.,\n",
       "       2., 1., 2., 1., 1., 1., 1., 1., 1., 2., 1., 1., 1., 1., 2., 1., 1.,\n",
       "       2., 2., 1., 2., 1., 1., 1., 1., 1., 1., 1., 2., 1., 2., 1., 2., 2.,\n",
       "       2., 1., 1., 1., 1., 2., 1., 1., 1., 2., 1., 2., 2., 2., 2., 2., 2.,\n",
       "       1., 2., 2., 2., 1., 2., 1., 2., 1., 1., 1., 2., 2., 2., 2., 1., 1.,\n",
       "       1., 1., 1., 1., 2., 2., 1., 1., 1., 1., 1., 1., 1., 1., 2., 1., 1.,\n",
       "       1., 2., 1., 2., 1., 2., 2., 2., 1., 1., 1., 1., 1., 1., 2., 1., 2.,\n",
       "       1., 1., 1., 1., 1., 2., 2., 1., 1., 1., 1., 1., 2., 2., 2., 1., 1.,\n",
       "       1., 1., 1., 2., 1., 1., 2., 2., 1., 2., 1., 2., 1., 2., 2., 1., 1.,\n",
       "       1., 1., 2., 1., 1., 2., 1., 1., 1., 1., 1., 1., 1., 1., 1., 2., 1.,\n",
       "       1., 1., 1., 2., 1., 1., 2., 2., 1., 1., 2., 1., 1., 1., 1., 1., 2.,\n",
       "       2., 2., 2., 1., 1., 1., 2., 1., 1., 1., 1., 2., 1., 1., 2., 1., 2.,\n",
       "       1., 2., 1., 1., 2., 2., 2., 2., 1., 2., 1., 1., 1., 1., 2., 1., 2.,\n",
       "       2., 1., 1., 1., 1., 2., 1., 1., 1., 2., 1., 2., 2., 1., 1., 1., 2.,\n",
       "       2., 1., 1., 1., 2., 2., 1., 2., 2., 2., 1., 2., 2., 1., 2., 2., 2.,\n",
       "       2., 1., 2., 2., 1., 2., 1., 2., 2., 2., 1., 1., 1., 2., 2., 1., 1.,\n",
       "       2., 2., 1., 2., 1., 1., 1., 1., 1., 1., 2., 1., 1., 1., 1., 2., 2.,\n",
       "       1., 1., 2., 2., 1., 2., 1., 1., 2., 2., 2., 1., 2., 1., 2., 2., 2.,\n",
       "       1., 1., 1., 2., 2., 2., 2., 2., 2., 2., 2., 1., 1., 2., 1., 1., 2.,\n",
       "       1., 2., 1., 1., 2., 2., 2., 2., 1., 1., 1., 2., 2., 2., 1., 1., 2.,\n",
       "       1., 2., 2., 1., 1., 1., 1., 1., 2., 2., 1., 2., 1., 1., 2., 1., 1.,\n",
       "       1., 1., 1., 1., 2., 1., 2., 1., 2., 2., 1., 1., 1., 1., 1., 2., 1.,\n",
       "       2., 1., 2., 1., 2., 1., 2., 2., 2., 1., 1., 2., 2., 1., 1., 2., 1.,\n",
       "       2., 1., 2., 1., 2., 1., 1., 1., 2., 2., 1., 2., 1., 2., 1., 1., 1.,\n",
       "       1., 1., 1., 1., 1., 2., 2., 2., 1., 1., 1., 1., 2., 1., 1., 2., 2.,\n",
       "       1., 1., 1., 1., 1., 2., 1., 1., 2., 1., 2., 1., 1., 2., 1., 1., 2.,\n",
       "       2., 1., 1., 2., 2., 2., 1., 2., 1., 2., 1., 1., 2., 2., 2., 1., 1.,\n",
       "       1., 2., 1., 1., 2., 1., 1., 2., 1., 2., 1., 2., 2., 1., 2., 1., 2.,\n",
       "       2., 1., 1., 1., 1., 2., 1., 2., 2., 1., 1., 1., 1., 1., 2., 1., 1.,\n",
       "       1., 1., 2., 2., 2., 1., 1., 1., 1., 1., 1., 1., 2., 2., 2., 2., 1.,\n",
       "       1., 1., 1., 1., 1., 2., 1., 2., 1., 1., 2., 2., 2., 1., 2., 1., 1.,\n",
       "       1., 1., 1., 1., 1., 2., 1., 1., 2., 1., 1., 2., 2., 2., 1., 2., 1.,\n",
       "       1., 2., 2., 2., 2., 1., 2., 2., 1., 1., 1., 2., 1., 1., 1., 1., 1.,\n",
       "       1., 2., 2., 2., 1., 1., 2., 2., 2., 2., 1., 2., 1., 2., 1., 2., 1.,\n",
       "       1., 1., 2., 2., 2., 2., 1., 1., 1., 1., 1., 1., 1., 2., 2., 1., 1.,\n",
       "       2., 1., 1., 1., 1., 2., 2., 1., 1., 2., 1., 1., 2., 1., 2., 1., 2.,\n",
       "       2., 1., 2.])"
      ]
     },
     "execution_count": 3,
     "metadata": {},
     "output_type": "execute_result"
    }
   ],
   "source": [
    "# Logistic regression classifier and predictions\n",
    "scale_orig = StandardScaler()\n",
    "X_train = scale_orig.fit_transform(dataset_orig_train.features)\n",
    "y_train = dataset_orig_train.labels.ravel()\n",
    "w_train = dataset_orig_train.instance_weights.ravel()\n",
    "\n",
    "lmod = LogisticRegression(class_weight = 'balanced')\n",
    "lmod.fit(X_train, y_train, sample_weight=dataset_orig_train.instance_weights)\n",
    "lmod.predict(X_train)\n",
    "\n",
    "# save the model\n",
    "# import joblib\n",
    "# joblib.dump(lmod, \"lmod_bias_model.pkl\")\n",
    "# load model\n",
    "# model = joblib.load('lmod_model.pkl' )\n",
    "# lmod.predict(X_train)\n"
   ]
  },
  {
   "cell_type": "markdown",
   "id": "9f8a25f2",
   "metadata": {},
   "source": [
    "## **Saving the Model**\n",
    "\n",
    "\n"
   ]
  }
 ],
 "metadata": {
  "interpreter": {
   "hash": "916dbcbb3f70747c44a77c7bcd40155683ae19c65e1c03b4aa3499c5328201f1"
  },
  "kernelspec": {
   "display_name": "Python 3.8.10 64-bit",
   "language": "python",
   "name": "python3"
  },
  "language_info": {
   "codemirror_mode": {
    "name": "ipython",
    "version": 3
   },
   "file_extension": ".py",
   "mimetype": "text/x-python",
   "name": "python",
   "nbconvert_exporter": "python",
   "pygments_lexer": "ipython3",
   "version": "3.8.10"
  }
 },
 "nbformat": 4,
 "nbformat_minor": 5
}
